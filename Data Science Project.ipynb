{
    "cells": [
        {
            "cell_type": "markdown",
            "metadata": {
                "id": "0be2b996-4d0b-4926-b019-17564a765e79"
            },
            "source": "# This programs prints Hello, World!"
        },
        {
            "cell_type": "code",
            "execution_count": null,
            "metadata": {
                "id": "1a284d7a-7198-46fb-b526-d16589894d18"
            },
            "outputs": [],
            "source": ""
        },
        {
            "cell_type": "code",
            "execution_count": 7,
            "metadata": {
                "id": "2b3b7fd3-97b9-4816-811a-f4bb9894af0b"
            },
            "outputs": [
                {
                    "name": "stdout",
                    "output_type": "stream",
                    "text": "Hello, World!\n"
                }
            ],
            "source": "print('Hello, World!')"
        },
        {
            "cell_type": "code",
            "execution_count": null,
            "metadata": {
                "id": "6a9061ba-5d1e-47e1-bf1c-7cb4d12749b2"
            },
            "outputs": [],
            "source": ""
        }
    ],
    "metadata": {
        "kernelspec": {
            "display_name": "Python 3.11",
            "language": "python",
            "name": "python3"
        },
        "language_info": {
            "codemirror_mode": {
                "name": "ipython",
                "version": 3
            },
            "file_extension": ".py",
            "mimetype": "text/x-python",
            "name": "python",
            "nbconvert_exporter": "python",
            "pygments_lexer": "ipython3",
            "version": "3.11.9"
        }
    },
    "nbformat": 4,
    "nbformat_minor": 4
}